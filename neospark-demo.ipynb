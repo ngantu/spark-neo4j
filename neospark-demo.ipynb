{
 "cells": [
  {
   "cell_type": "code",
   "execution_count": 3,
   "id": "1be90bfb",
   "metadata": {},
   "outputs": [
    {
     "data": {
      "text/html": [
       "<div>\n",
       "<style scoped>\n",
       "    .dataframe tbody tr th:only-of-type {\n",
       "        vertical-align: middle;\n",
       "    }\n",
       "\n",
       "    .dataframe tbody tr th {\n",
       "        vertical-align: top;\n",
       "    }\n",
       "\n",
       "    .dataframe thead th {\n",
       "        text-align: right;\n",
       "    }\n",
       "</style>\n",
       "<table border=\"1\" class=\"dataframe\">\n",
       "  <thead>\n",
       "    <tr style=\"text-align: right;\">\n",
       "      <th></th>\n",
       "      <th>name</th>\n",
       "      <th>part_of_speech</th>\n",
       "    </tr>\n",
       "  </thead>\n",
       "  <tbody>\n",
       "    <tr>\n",
       "      <th>0</th>\n",
       "      <td>agreeable</td>\n",
       "      <td>adjective</td>\n",
       "    </tr>\n",
       "    <tr>\n",
       "      <th>1</th>\n",
       "      <td>man</td>\n",
       "      <td>noun</td>\n",
       "    </tr>\n",
       "    <tr>\n",
       "      <th>2</th>\n",
       "      <td>old</td>\n",
       "      <td>adjective</td>\n",
       "    </tr>\n",
       "    <tr>\n",
       "      <th>3</th>\n",
       "      <td>person</td>\n",
       "      <td>noun</td>\n",
       "    </tr>\n",
       "    <tr>\n",
       "      <th>4</th>\n",
       "      <td>anything</td>\n",
       "      <td>noun</td>\n",
       "    </tr>\n",
       "  </tbody>\n",
       "</table>\n",
       "</div>"
      ],
      "text/plain": [
       "        name part_of_speech\n",
       "0  agreeable      adjective\n",
       "1        man           noun\n",
       "2        old      adjective\n",
       "3     person           noun\n",
       "4   anything           noun"
      ]
     },
     "execution_count": 3,
     "metadata": {},
     "output_type": "execute_result"
    }
   ],
   "source": [
    "\"\"\" speech_nodes.csv file contains words and their corresponding parts of speech, \n",
    "and the speech_edges.csv file contains connections between them.\n",
    "\"\"\"\n",
    "# import pandas library\n",
    "import pandas as pd\n",
    "#read csv files into respective DataFrames:\n",
    "edges = pd.read_csv(r\"H:\\Data\\speech_edges.csv\")\n",
    "nodes = pd.read_csv(r\"H:\\Data\\speech_nodes.csv\")\n",
    "# see the DataFrames' data\n",
    "edges.head()\n",
    "nodes.head()"
   ]
  },
  {
   "cell_type": "code",
   "execution_count": 5,
   "id": "316e93be",
   "metadata": {},
   "outputs": [],
   "source": [
    "# Mark all words in edges DataFrame with their parts of speech.\n",
    "#First of all, we need to merge our tables on words which the edges begin with:\n",
    "from_tab = pd.merge(nodes, edges,left_on='name', right_on='from')[['part_of_speech','from','to']]"
   ]
  },
  {
   "cell_type": "code",
   "execution_count": 7,
   "id": "9c374295",
   "metadata": {},
   "outputs": [],
   "source": [
    "#The next step is to merge tables on words which the edge goes to:\n",
    "to_tab = pd.merge(nodes, edges, left_on='name', right_on='to')[['part_of_speech','to','from']]"
   ]
  },
  {
   "cell_type": "code",
   "execution_count": 8,
   "id": "9dae4057",
   "metadata": {},
   "outputs": [],
   "source": [
    "#Let’s rename columns to exclude duplication (“pos” means part of speech):\n",
    "from_tab.rename(columns = {\"part_of_speech\": \"pos_from\"}, inplace = True)\n",
    "to_tab.rename(columns = {\"part_of_speech\": \"pos_to\" }, inplace = True)"
   ]
  },
  {
   "cell_type": "code",
   "execution_count": 9,
   "id": "80afee53",
   "metadata": {},
   "outputs": [],
   "source": [
    "# Finally, let’s merge tables to form the edges\n",
    "tab = pd.merge(from_tab, to_tab, on=[\"to\",\"from\"])[[\"pos_from\",\"from\",\"pos_to\",\"to\"]]"
   ]
  },
  {
   "cell_type": "code",
   "execution_count": 10,
   "id": "d84a68b1",
   "metadata": {},
   "outputs": [
    {
     "data": {
      "text/html": [
       "<div>\n",
       "<style scoped>\n",
       "    .dataframe tbody tr th:only-of-type {\n",
       "        vertical-align: middle;\n",
       "    }\n",
       "\n",
       "    .dataframe tbody tr th {\n",
       "        vertical-align: top;\n",
       "    }\n",
       "\n",
       "    .dataframe thead th {\n",
       "        text-align: right;\n",
       "    }\n",
       "</style>\n",
       "<table border=\"1\" class=\"dataframe\">\n",
       "  <thead>\n",
       "    <tr style=\"text-align: right;\">\n",
       "      <th></th>\n",
       "      <th>pos_from</th>\n",
       "      <th>from</th>\n",
       "      <th>pos_to</th>\n",
       "      <th>to</th>\n",
       "    </tr>\n",
       "  </thead>\n",
       "  <tbody>\n",
       "    <tr>\n",
       "      <th>0</th>\n",
       "      <td>noun</td>\n",
       "      <td>man</td>\n",
       "      <td>adjective</td>\n",
       "      <td>old</td>\n",
       "    </tr>\n",
       "    <tr>\n",
       "      <th>1</th>\n",
       "      <td>noun</td>\n",
       "      <td>man</td>\n",
       "      <td>noun</td>\n",
       "      <td>person</td>\n",
       "    </tr>\n",
       "    <tr>\n",
       "      <th>2</th>\n",
       "      <td>noun</td>\n",
       "      <td>man</td>\n",
       "      <td>noun</td>\n",
       "      <td>anything</td>\n",
       "    </tr>\n",
       "    <tr>\n",
       "      <th>3</th>\n",
       "      <td>adjective</td>\n",
       "      <td>old</td>\n",
       "      <td>noun</td>\n",
       "      <td>person</td>\n",
       "    </tr>\n",
       "    <tr>\n",
       "      <th>4</th>\n",
       "      <td>adjective</td>\n",
       "      <td>old</td>\n",
       "      <td>adjective</td>\n",
       "      <td>bad</td>\n",
       "    </tr>\n",
       "  </tbody>\n",
       "</table>\n",
       "</div>"
      ],
      "text/plain": [
       "    pos_from from     pos_to        to\n",
       "0       noun  man  adjective       old\n",
       "1       noun  man       noun    person\n",
       "2       noun  man       noun  anything\n",
       "3  adjective  old       noun    person\n",
       "4  adjective  old  adjective       bad"
      ]
     },
     "execution_count": 10,
     "metadata": {},
     "output_type": "execute_result"
    }
   ],
   "source": [
    "#To see the first 5 lines of the table \n",
    "tab.head(5)"
   ]
  },
  {
   "cell_type": "code",
   "execution_count": 15,
   "id": "c6138bd7",
   "metadata": {},
   "outputs": [],
   "source": [
    "# Connect and load data to the Neo4j graph database\n",
    "from py2neo import Graph, Node, Relationship\n",
    "from neo4j import GraphDatabase\n",
    "uri = \"neo4j://localhost:7687\"\n",
    "graph = Graph(uri, auth=(\"neo4j\", \"password\"))"
   ]
  },
  {
   "cell_type": "code",
   "execution_count": 17,
   "id": "5608b20f",
   "metadata": {},
   "outputs": [],
   "source": [
    "# Create nodes and edges (relationships) and merge them into the previously created empty graph in Neo4j database:\n",
    "#Iterate in row of \"tab\" which is created above\n",
    "for row in tab.iterrows():\n",
    "  #Create node_a and node_b then connect them with Relationship \"with\"\n",
    "  node_a = Node(row[1][\"pos_from\"], name=row[1][\"from\"])\n",
    "  node_b = Node(row[1][\"pos_to\"], name=row[1][\"to\"])\n",
    "  rel = Relationship(node_a, \"with\", node_b)\n",
    "  graph.merge(rel, \"with\", \"name\")\n",
    "\n",
    "# After above connection, see data graph model through Neo4j Browser of Neo4j Desktop application or the link http://localhost:7474/browser/\n",
    "# In Neo4j Browser interface, at Neo4j$ line type following command \"MATCH p=()-[r:with]->() RETURN p LIMIT 100\" to see 67 nodes and 100 relationships of the graph"
   ]
  },
  {
   "cell_type": "code",
   "execution_count": null,
   "id": "845f243c",
   "metadata": {},
   "outputs": [],
   "source": []
  }
 ],
 "metadata": {
  "kernelspec": {
   "display_name": "Python 3",
   "language": "python",
   "name": "python3"
  },
  "language_info": {
   "codemirror_mode": {
    "name": "ipython",
    "version": 3
   },
   "file_extension": ".py",
   "mimetype": "text/x-python",
   "name": "python",
   "nbconvert_exporter": "python",
   "pygments_lexer": "ipython3",
   "version": "3.8.5"
  }
 },
 "nbformat": 4,
 "nbformat_minor": 5
}
